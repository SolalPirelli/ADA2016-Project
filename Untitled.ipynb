{
 "cells": [
  {
   "cell_type": "markdown",
   "metadata": {},
   "source": [
    "# Radio playlists analysis\n",
    "\n",
    "In this project, we investigated playlists from Swiss radios over the past few years."
   ]
  },
  {
   "cell_type": "markdown",
   "metadata": {},
   "source": [
    "First, we wrote scrapers for the following Swiss radios, that extract a song's name, its performer, and the date at which it was played:\n",
    "\n",
    "* La 1ère\n",
    "* Espace 2\n",
    "* Couleur 3\n",
    "* Option Musique\n",
    "* Rouge FM\n",
    "\n",
    "This gives us a fairly large panel of music choices.\n",
    "\n",
    "The scrapers themselves are not always easy to write, especially because the radios have (undocumented) limits on how much one may scrape per hour/day/...; while the end result is code that is fairly readable, their development took some time. Their code can be found in the `scrapers` folder.\n",
    "\n",
    "The raw scraped playlists are in the `data/raw-playlists` folder."
   ]
  },
  {
   "cell_type": "markdown",
   "metadata": {},
   "source": [
    "Let's have a quick look at one of the files:"
   ]
  },
  {
   "cell_type": "code",
   "execution_count": 131,
   "metadata": {
    "collapsed": false
   },
   "outputs": [
    {
     "data": {
      "text/html": [
       "<div>\n",
       "<table border=\"1\" class=\"dataframe\">\n",
       "  <thead>\n",
       "    <tr style=\"text-align: right;\">\n",
       "      <th></th>\n",
       "      <th>date</th>\n",
       "      <th>track</th>\n",
       "      <th>artist</th>\n",
       "    </tr>\n",
       "  </thead>\n",
       "  <tbody>\n",
       "    <tr>\n",
       "      <th>0</th>\n",
       "      <td>2017-01-05 00:03:06</td>\n",
       "      <td>Encore une fois</td>\n",
       "      <td>Catherine Lara</td>\n",
       "    </tr>\n",
       "    <tr>\n",
       "      <th>1</th>\n",
       "      <td>2017-01-05 00:08:00</td>\n",
       "      <td>Je t'aime...moi non plus</td>\n",
       "      <td>Serge Gainsbourg/ Jane Birkin</td>\n",
       "    </tr>\n",
       "    <tr>\n",
       "      <th>2</th>\n",
       "      <td>2017-01-05 00:12:23</td>\n",
       "      <td>Please forgive me</td>\n",
       "      <td>Bryan Adams</td>\n",
       "    </tr>\n",
       "    <tr>\n",
       "      <th>3</th>\n",
       "      <td>2017-01-05 00:16:56</td>\n",
       "      <td>Comme un brasero</td>\n",
       "      <td>Pierre Rapsat</td>\n",
       "    </tr>\n",
       "    <tr>\n",
       "      <th>4</th>\n",
       "      <td>2017-01-05 00:21:17</td>\n",
       "      <td>L'esprit grande prairie</td>\n",
       "      <td>Eddy Mitchell</td>\n",
       "    </tr>\n",
       "  </tbody>\n",
       "</table>\n",
       "</div>"
      ],
      "text/plain": [
       "                  date                     track  \\\n",
       "0  2017-01-05 00:03:06           Encore une fois   \n",
       "1  2017-01-05 00:08:00  Je t'aime...moi non plus   \n",
       "2  2017-01-05 00:12:23         Please forgive me   \n",
       "3  2017-01-05 00:16:56          Comme un brasero   \n",
       "4  2017-01-05 00:21:17   L'esprit grande prairie   \n",
       "\n",
       "                          artist  \n",
       "0                 Catherine Lara  \n",
       "1  Serge Gainsbourg/ Jane Birkin  \n",
       "2                    Bryan Adams  \n",
       "3                  Pierre Rapsat  \n",
       "4                  Eddy Mitchell  "
      ]
     },
     "execution_count": 131,
     "metadata": {},
     "output_type": "execute_result"
    }
   ],
   "source": [
    "import pandas as pd\n",
    "\n",
    "pd.read_csv(\"data/raw-playlists/option-musique\", sep=\"\\x1f\", header=None, names=[\"date\", \"track\", \"artist\"]).head()"
   ]
  },
  {
   "cell_type": "markdown",
   "metadata": {},
   "source": [
    "From this short overview, one can already notice an unfortunate but important fact: names must be normalized.\n",
    "\n",
    "Indeed, *Serge Gainsbourg/ Jane Birkin* is not one single artist, but two different people. And in this case, they're separated in a slightly odd way since there's a space only in one side of the separator. Clearly, we must deal with this kind of problems, to avoid duplicates and failed metadata searches later.\n",
    "\n",
    "We will, of course, encounter false positives; for instance, *Ike & Tina Turner* were a duo that always sang together, hence it does not make sense to split them. But these should be rare enough; if we see too many bad things, we can always hardcode the most frequent ones."
   ]
  },
  {
   "cell_type": "code",
   "execution_count": 80,
   "metadata": {
    "collapsed": false
   },
   "outputs": [],
   "source": [
    "import json\n",
    "import urllib.parse\n",
    "import urllib.request\n",
    "\n",
    "def top_tags(artist, track):\n",
    "    url = \"http://ws.audioscrobbler.com/2.0/?method=track.gettoptags\" \\\n",
    "          \"&artist={a}\" \\\n",
    "          \"&track={t}\" \\\n",
    "          \"&api_key=7120a4263ebddfdbbb7c0a061b13c170\" \\\n",
    "          \"&format=json\"\n",
    "    url = url.format(a=urllib.parse.quote(artist), t=urllib.parse.quote(track))\n",
    "        \n",
    "    req = urllib.request.urlopen(url)\n",
    "    obj = json.loads(req.read().decode(\"utf-8\"))\n",
    "    \n",
    "    try:\n",
    "        return [tag[\"name\"] for tag in obj[\"toptags\"][\"tag\"] if int(tag[\"count\"]) >= 10]\n",
    "    except KeyError:\n",
    "        return []"
   ]
  },
  {
   "cell_type": "code",
   "execution_count": 86,
   "metadata": {
    "collapsed": false
   },
   "outputs": [
    {
     "data": {
      "text/plain": [
       "['indie',\n",
       " 'indie pop',\n",
       " 'indie rock',\n",
       " 'surf rock',\n",
       " 'alternative',\n",
       " 'summer',\n",
       " 'alternative rock',\n",
       " 'post-punk',\n",
       " 'rock',\n",
       " 'american',\n",
       " 'Post punk',\n",
       " 'best song ever',\n",
       " '010s',\n",
       " 'snowlist']"
      ]
     },
     "execution_count": 86,
     "metadata": {},
     "output_type": "execute_result"
    }
   ],
   "source": [
    "top_tags(\"the drums\", \"money\")"
   ]
  },
  {
   "cell_type": "code",
   "execution_count": 94,
   "metadata": {
    "collapsed": true
   },
   "outputs": [],
   "source": [
    "def normalize_name(name):\n",
    "    open_paren = 0\n",
    "    result = \"\"\n",
    "    for c in name:\n",
    "        if c == '(':\n",
    "            open_paren += 1\n",
    "        elif c == ')':\n",
    "            open_paren -= 1\n",
    "        elif open_paren == 0:\n",
    "            result += c\n",
    "    return result.strip()"
   ]
  },
  {
   "cell_type": "code",
   "execution_count": 95,
   "metadata": {
    "collapsed": false
   },
   "outputs": [
    {
     "data": {
      "text/plain": [
       "'Lost Boy & Suicide Girl'"
      ]
     },
     "execution_count": 95,
     "metadata": {},
     "output_type": "execute_result"
    }
   ],
   "source": [
    "normalize_name(\"(REP) Lost Boy & Suicide Girl (feat. Simon Jäggi)\")"
   ]
  },
  {
   "cell_type": "code",
   "execution_count": 120,
   "metadata": {
    "collapsed": true
   },
   "outputs": [],
   "source": [
    "import re\n",
    "\n",
    "def split_artist(artist):\n",
    "    # this causes a few false positives, e.g. \"Ike & Tina Turner\"\n",
    "    return [a.strip() for a in re.split(\"&| x |/|,|feat.\", artist)]"
   ]
  },
  {
   "cell_type": "code",
   "execution_count": 121,
   "metadata": {
    "collapsed": false
   },
   "outputs": [
    {
     "data": {
      "text/plain": [
       "['Miss Kittin', 'the Hacker']"
      ]
     },
     "execution_count": 121,
     "metadata": {},
     "output_type": "execute_result"
    }
   ],
   "source": [
    "split_artist(\"Miss Kittin & the Hacker\")"
   ]
  },
  {
   "cell_type": "code",
   "execution_count": 122,
   "metadata": {
    "collapsed": false
   },
   "outputs": [
    {
     "data": {
      "text/plain": [
       "['Cypress Hill', 'Rusko']"
      ]
     },
     "execution_count": 122,
     "metadata": {},
     "output_type": "execute_result"
    }
   ],
   "source": [
    "split_artist(\"Cypress Hill x Rusko\")"
   ]
  },
  {
   "cell_type": "code",
   "execution_count": 123,
   "metadata": {
    "collapsed": false
   },
   "outputs": [
    {
     "data": {
      "text/plain": [
       "['Common', 'Bilal']"
      ]
     },
     "execution_count": 123,
     "metadata": {},
     "output_type": "execute_result"
    }
   ],
   "source": [
    "split_artist(\"Common feat. Bilal\")"
   ]
  },
  {
   "cell_type": "code",
   "execution_count": 124,
   "metadata": {
    "collapsed": false
   },
   "outputs": [
    {
     "data": {
      "text/plain": [
       "['Willie Nelson', 'Jack Johnson', 'Be Harper']"
      ]
     },
     "execution_count": 124,
     "metadata": {},
     "output_type": "execute_result"
    }
   ],
   "source": [
    "split_artist(\"Willie Nelson/ Jack Johnson/ Be Harper \")"
   ]
  },
  {
   "cell_type": "code",
   "execution_count": null,
   "metadata": {
    "collapsed": true
   },
   "outputs": [],
   "source": []
  }
 ],
 "metadata": {
  "anaconda-cloud": {},
  "kernelspec": {
   "display_name": "Python [default]",
   "language": "python",
   "name": "python3"
  },
  "language_info": {
   "codemirror_mode": {
    "name": "ipython",
    "version": 3
   },
   "file_extension": ".py",
   "mimetype": "text/x-python",
   "name": "python",
   "nbconvert_exporter": "python",
   "pygments_lexer": "ipython3",
   "version": "3.5.2"
  }
 },
 "nbformat": 4,
 "nbformat_minor": 1
}
